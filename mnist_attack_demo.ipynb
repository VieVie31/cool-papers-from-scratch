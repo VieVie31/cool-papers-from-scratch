{
 "cells": [
  {
   "cell_type": "markdown",
   "metadata": {},
   "source": [
    "# MNIST Attack"
   ]
  },
  {
   "cell_type": "code",
   "execution_count": 1,
   "metadata": {},
   "outputs": [],
   "source": [
    "import torch\n",
    "import torch.nn as nn\n",
    "import torch.optim as optim\n",
    "import torchvision.transforms as transforms\n",
    "\n",
    "from torchsummary import summary\n",
    "from torch.autograd import Variable\n",
    "from torchvision.datasets import MNIST\n",
    "\n",
    "import numpy as np\n",
    "import matplotlib.pyplot as plt\n",
    "\n",
    "from copy import deepcopy\n",
    "from IPython.display import clear_output\n",
    "\n",
    "%matplotlib inline"
   ]
  },
  {
   "cell_type": "markdown",
   "metadata": {},
   "source": [
    "## Building the Classifier"
   ]
  },
  {
   "cell_type": "code",
   "execution_count": 2,
   "metadata": {},
   "outputs": [],
   "source": [
    "class ConvNet(nn.Module):\n",
    "    def __init__(self):\n",
    "        super(ConvNet, self).__init__()\n",
    "        self.features = nn.Sequential(\n",
    "            nn.Conv2d(1,  5, 5),\n",
    "            nn.BatchNorm2d(5),\n",
    "            nn.ReLU(),\n",
    "            nn.MaxPool2d(2),\n",
    "            nn.Conv2d(5, 15, 3),\n",
    "            nn.BatchNorm2d(15),\n",
    "            nn.ReLU(),\n",
    "            nn.MaxPool2d(2),\n",
    "        )\n",
    "        self.classifier = nn.Sequential(\n",
    "            nn.Linear(375, 64),\n",
    "            nn.BatchNorm1d(64),\n",
    "            nn.ReLU(),\n",
    "            nn.Linear(64, 10),\n",
    "            nn.BatchNorm1d(10),\n",
    "            nn.LogSoftmax()\n",
    "        )\n",
    "    \n",
    "    def forward(self, x):\n",
    "        out = self.features(x)\n",
    "        out = out.view(-1, 375)\n",
    "        out = self.classifier(out)\n",
    "        return out\n",
    "\n"
   ]
  },
  {
   "cell_type": "code",
   "execution_count": 3,
   "metadata": {},
   "outputs": [],
   "source": [
    "trans = transforms.Compose([\n",
    "    transforms.ToTensor(), \n",
    "    transforms.Normalize((0.5,), (1.0,))\n",
    "])\n",
    "\n",
    "train_set = MNIST(root='./data', train=True,  transform=trans, download=True)\n",
    "test_set  = MNIST(root='./data', train=False, transform=trans, download=True)"
   ]
  },
  {
   "cell_type": "code",
   "execution_count": 4,
   "metadata": {},
   "outputs": [],
   "source": [
    "batch_size = 16\n",
    "\n",
    "train_loader = torch.utils.data.DataLoader(\n",
    "    dataset=train_set,\n",
    "    batch_size=batch_size,\n",
    "    shuffle=True\n",
    ")\n",
    "\n",
    "test_loader = torch.utils.data.DataLoader(\n",
    "    dataset=test_set,\n",
    "    batch_size=batch_size,\n",
    "    shuffle=False\n",
    ")"
   ]
  },
  {
   "cell_type": "code",
   "execution_count": 5,
   "metadata": {},
   "outputs": [
    {
     "data": {
      "text/plain": [
       "ConvNet(\n",
       "  (features): Sequential(\n",
       "    (0): Conv2d(1, 5, kernel_size=(5, 5), stride=(1, 1))\n",
       "    (1): BatchNorm2d(5, eps=1e-05, momentum=0.1, affine=True, track_running_stats=True)\n",
       "    (2): ReLU()\n",
       "    (3): MaxPool2d(kernel_size=2, stride=2, padding=0, dilation=1, ceil_mode=False)\n",
       "    (4): Conv2d(5, 15, kernel_size=(3, 3), stride=(1, 1))\n",
       "    (5): BatchNorm2d(15, eps=1e-05, momentum=0.1, affine=True, track_running_stats=True)\n",
       "    (6): ReLU()\n",
       "    (7): MaxPool2d(kernel_size=2, stride=2, padding=0, dilation=1, ceil_mode=False)\n",
       "  )\n",
       "  (classifier): Sequential(\n",
       "    (0): Linear(in_features=375, out_features=64, bias=True)\n",
       "    (1): BatchNorm1d(64, eps=1e-05, momentum=0.1, affine=True, track_running_stats=True)\n",
       "    (2): ReLU()\n",
       "    (3): Linear(in_features=64, out_features=10, bias=True)\n",
       "    (4): BatchNorm1d(10, eps=1e-05, momentum=0.1, affine=True, track_running_stats=True)\n",
       "    (5): LogSoftmax()\n",
       "  )\n",
       ")"
      ]
     },
     "execution_count": 5,
     "metadata": {},
     "output_type": "execute_result"
    }
   ],
   "source": [
    "model = ConvNet()\n",
    "model"
   ]
  },
  {
   "cell_type": "code",
   "execution_count": 6,
   "metadata": {},
   "outputs": [
    {
     "name": "stdout",
     "output_type": "stream",
     "text": [
      "----------------------------------------------------------------\n",
      "        Layer (type)               Output Shape         Param #\n",
      "================================================================\n",
      "            Conv2d-1            [-1, 5, 24, 24]             130\n",
      "       BatchNorm2d-2            [-1, 5, 24, 24]              10\n",
      "              ReLU-3            [-1, 5, 24, 24]               0\n",
      "         MaxPool2d-4            [-1, 5, 12, 12]               0\n",
      "            Conv2d-5           [-1, 15, 10, 10]             690\n",
      "       BatchNorm2d-6           [-1, 15, 10, 10]              30\n",
      "              ReLU-7           [-1, 15, 10, 10]               0\n",
      "         MaxPool2d-8             [-1, 15, 5, 5]               0\n",
      "            Linear-9                   [-1, 64]          24,064\n",
      "      BatchNorm1d-10                   [-1, 64]             128\n",
      "             ReLU-11                   [-1, 64]               0\n",
      "           Linear-12                   [-1, 10]             650\n",
      "      BatchNorm1d-13                   [-1, 10]              20\n",
      "       LogSoftmax-14                   [-1, 10]               0\n",
      "================================================================\n",
      "Total params: 25,722\n",
      "Trainable params: 25,722\n",
      "Non-trainable params: 0\n",
      "----------------------------------------------------------------\n"
     ]
    },
    {
     "name": "stderr",
     "output_type": "stream",
     "text": [
      "/usr/local/lib/python3.6/site-packages/torch/nn/modules/container.py:91: UserWarning: Implicit dimension choice for log_softmax has been deprecated. Change the call to include dim=X as an argument.\n",
      "  input = module(input)\n"
     ]
    }
   ],
   "source": [
    "summary(model, (1, 28, 28))"
   ]
  },
  {
   "cell_type": "code",
   "execution_count": 7,
   "metadata": {},
   "outputs": [],
   "source": [
    "optimizer     = optim.Adadelta(model.parameters())\n",
    "loss_function = nn.NLLLoss()"
   ]
  },
  {
   "cell_type": "code",
   "execution_count": 8,
   "metadata": {},
   "outputs": [
    {
     "name": "stderr",
     "output_type": "stream",
     "text": [
      "/usr/local/lib/python3.6/site-packages/torch/nn/modules/container.py:91: UserWarning: Implicit dimension choice for log_softmax has been deprecated. Change the call to include dim=X as an argument.\n",
      "  input = module(input)\n"
     ]
    },
    {
     "name": "stdout",
     "output_type": "stream",
     "text": [
      "0.2968102327605079\t0.10664021118618558\n",
      "0.10602050387648224\t0.06629995576553042\n",
      "0.08051582716461271\t0.05071797690102828\n",
      "0.06920259381188071\t0.043045568852242956\n",
      "0.061306453929538714\t0.03461668851997242\n"
     ]
    }
   ],
   "source": [
    "for i in range(5):\n",
    "    #training loop\n",
    "    mean_loss = 0.\n",
    "    for j, (x, y) in enumerate(train_loader):\n",
    "        optimizer.zero_grad()\n",
    "        pred = model(x)\n",
    "        loss = loss_function(pred, y)\n",
    "        loss.backward()\n",
    "        optimizer.step()\n",
    "        mean_loss = mean_loss + (loss.item() - mean_loss) / float(j + 1)\n",
    "    print(mean_loss, end='\\t')\n",
    "    #testing loop\n",
    "    mean_loss = 0.\n",
    "    for j, (x, y) in enumerate(test_loader):\n",
    "        optimizer.zero_grad()\n",
    "        pred = model(x)\n",
    "        loss = loss_function(pred, y)\n",
    "        loss.backward()\n",
    "        optimizer.step()\n",
    "        mean_loss = mean_loss + (loss.item() - mean_loss) / float(j + 1)\n",
    "    print(mean_loss)"
   ]
  },
  {
   "cell_type": "markdown",
   "metadata": {},
   "source": [
    "## Building Attack\n",
    "\n",
    "https://arxiv.org/pdf/1312.6199.pdf"
   ]
  },
  {
   "cell_type": "code",
   "execution_count": 9,
   "metadata": {},
   "outputs": [
    {
     "data": {
      "image/png": "[encoded data removed]",
      "text/plain": [
       "<Figure size 432x288 with 1 Axes>"
      ]
     },
     "metadata": {},
     "output_type": "display_data"
    }
   ],
   "source": [
    "sample = x[1].detach().numpy()[0]\n",
    "\n",
    "plt.title(\"sample\")\n",
    "plt.axis('off')\n",
    "plt.imshow(sample, cmap='gray')\n",
    "plt.show()"
   ]
  },
  {
   "cell_type": "code",
   "execution_count": 10,
   "metadata": {},
   "outputs": [
    {
     "name": "stdout",
     "output_type": "stream",
     "text": [
      "tensor(1.00000e-03 *\n",
      "       4.1220)\n"
     ]
    },
    {
     "name": "stderr",
     "output_type": "stream",
     "text": [
      "/usr/local/lib/python3.6/site-packages/torch/nn/modules/container.py:91: UserWarning: Implicit dimension choice for log_softmax has been deprecated. Change the call to include dim=X as an argument.\n",
      "  input = module(input)\n"
     ]
    },
    {
     "data": {
      "text/plain": [
       "(tensor([ 1,  2,  3,  4,  5,  6,  7,  8,  9,  0,  1,  2,  3,  4,\n",
       "          5,  6]),\n",
       " tensor([ 1,  2,  3,  4,  5,  6,  7,  8,  9,  0,  1,  2,  3,  4,\n",
       "          5,  6]))"
      ]
     },
     "execution_count": 10,
     "metadata": {},
     "output_type": "execute_result"
    }
   ],
   "source": [
    "adversarial_model = deepcopy(model)\n",
    "\n",
    "residual = torch.rand(x.shape)\n",
    "residual = (residual + residual.min()) / (residual.max() * 100.)\n",
    "residual.requires_grad = True\n",
    "print(residual[0][0][0][0])\n",
    "\n",
    "pred = adversarial_model(x + residual)\n",
    "pred.argmax(1), y"
   ]
  },
  {
   "cell_type": "code",
   "execution_count": 11,
   "metadata": {},
   "outputs": [
    {
     "data": {
      "image/png": "[encoded data removed]",
      "text/plain": [
       "<Figure size 432x288 with 1 Axes>"
      ]
     },
     "metadata": {},
     "output_type": "display_data"
    },
    {
     "name": "stdout",
     "output_type": "stream",
     "text": [
      "last loss value :  3.815025806427002\n"
     ]
    }
   ],
   "source": [
    "aversarial_loss = nn.NLLLoss()\n",
    "adversarial_optimizer = optim.SGD([residual], lr=100)\n",
    "\n",
    "adv_loss_history = []\n",
    "for i in range(10000):\n",
    "    pred = adversarial_model((x + nn.Sigmoid()(residual)) / 2.)\n",
    "    adversarial_optimizer.zero_grad()\n",
    "    #adversarial loss computation\n",
    "    adv_loss  = (2 - i / 10000) * aversarial_loss(pred, torch.LongTensor([0] * 16)) #class transfert\n",
    "    adv_loss += 5 * nn.MSELoss()((x + nn.Sigmoid()(residual)) / 2., x)   #disformation should not be too big \n",
    "    adv_loss += .0001 * nn.Sigmoid()(residual).abs().sum()               #L1 regularization on the noize\n",
    "    adv_loss += .5 * nn.MSELoss()(residual, torch.zeros(residual.shape)) #L2 regularization on the noize\n",
    "    adv_loss.backward()\n",
    "    adversarial_optimizer.step()\n",
    "    adv_loss_history.append(adv_loss.item())\n",
    "    if not i % 100:\n",
    "        clear_output()\n",
    "        plt.title(\"Adversarial Loss History\")\n",
    "        plt.plot(adv_loss_history)\n",
    "        plt.grid()\n",
    "        plt.show()\n",
    "        print(\"last loss value : \", adv_loss_history[-1])"
   ]
  },
  {
   "cell_type": "code",
   "execution_count": 12,
   "metadata": {},
   "outputs": [
    {
     "name": "stderr",
     "output_type": "stream",
     "text": [
      "/usr/local/lib/python3.6/site-packages/torch/nn/modules/container.py:91: UserWarning: Implicit dimension choice for log_softmax has been deprecated. Change the call to include dim=X as an argument.\n",
      "  input = module(input)\n"
     ]
    },
    {
     "data": {
      "text/plain": [
       "(tensor([ 3,  6,  7,  9,  1,  1,  7,  8,  2,  6,  1,  1,  1,  1,\n",
       "          1,  9]),\n",
       " tensor([ 1,  2,  3,  4,  5,  6,  7,  8,  9,  0,  1,  2,  3,  4,\n",
       "          5,  6]))"
      ]
     },
     "execution_count": 12,
     "metadata": {},
     "output_type": "execute_result"
    }
   ],
   "source": [
    "pred = adversarial_model(x + nn.Sigmoid()(residual))\n",
    "pred.argmax(1), y"
   ]
  },
  {
   "cell_type": "code",
   "execution_count": 13,
   "metadata": {},
   "outputs": [
    {
     "data": {
      "image/png": "[encoded data removed]",
      "text/plain": [
       "<Figure size 432x288 with 1 Axes>"
      ]
     },
     "metadata": {},
     "output_type": "display_data"
    }
   ],
   "source": [
    "plt.imshow(((x + nn.Sigmoid()(residual))[1] / 2.).detach().numpy()[0], cmap='gray')\n",
    "plt.show()"
   ]
  },
  {
   "cell_type": "code",
   "execution_count": 14,
   "metadata": {},
   "outputs": [
    {
     "data": {
      "text/plain": [
       "(tensor(1.00000e-02 *\n",
       "        9.5752), tensor(0.8333))"
      ]
     },
     "execution_count": 14,
     "metadata": {},
     "output_type": "execute_result"
    }
   ],
   "source": [
    "nn.Sigmoid()(residual).min(), nn.Sigmoid()(residual).max()"
   ]
  },
  {
   "cell_type": "code",
   "execution_count": 15,
   "metadata": {},
   "outputs": [
    {
     "data": {
      "image/png": "[encoded data removed]",
      "text/plain": [
       "<Figure size 432x288 with 1 Axes>"
      ]
     },
     "metadata": {},
     "output_type": "display_data"
    }
   ],
   "source": [
    "plt.imshow(((x + nn.Sigmoid()(residual))[2] / 2.).detach().numpy()[0], cmap='gray')\n",
    "plt.show()"
   ]
  },
  {
   "cell_type": "code",
   "execution_count": 16,
   "metadata": {},
   "outputs": [
    {
     "data": {
      "image/png": "[encoded data removed]",
      "text/plain": [
       "<Figure size 432x288 with 1 Axes>"
      ]
     },
     "metadata": {},
     "output_type": "display_data"
    },
    {
     "data": {
      "image/png": "[encoded data removed]",
      "text/plain": [
       "<Figure size 432x288 with 1 Axes>"
      ]
     },
     "metadata": {},
     "output_type": "display_data"
    },
    {
     "data": {
      "image/png": "[encoded data removed]",
      "text/plain": [
       "<Figure size 432x288 with 1 Axes>"
      ]
     },
     "metadata": {},
     "output_type": "display_data"
    },
    {
     "data": {
      "image/png": "[encoded data removed]",
      "text/plain": [
       "<Figure size 432x288 with 1 Axes>"
      ]
     },
     "metadata": {},
     "output_type": "display_data"
    },
    {
     "data": {
      "image/png": "[encoded data removed]",
      "text/plain": [
       "<Figure size 432x288 with 1 Axes>"
      ]
     },
     "metadata": {},
     "output_type": "display_data"
    },
    {
     "data": {
      "image/png": "[encoded data removed]",
      "text/plain": [
       "<Figure size 432x288 with 1 Axes>"
      ]
     },
     "metadata": {},
     "output_type": "display_data"
    },
    {
     "data": {
      "image/png": "[encoded data removed]",
      "text/plain": [
       "<Figure size 432x288 with 1 Axes>"
      ]
     },
     "metadata": {},
     "output_type": "display_data"
    },
    {
     "data": {
      "image/png": "[encoded data removed]",
      "text/plain": [
       "<Figure size 432x288 with 1 Axes>"
      ]
     },
     "metadata": {},
     "output_type": "display_data"
    },
    {
     "data": {
      "image/png": "[encoded data removed]",
      "text/plain": [
       "<Figure size 432x288 with 1 Axes>"
      ]
     },
     "metadata": {},
     "output_type": "display_data"
    },
    {
     "data": {
      "image/png": "[encoded data removed]",
      "text/plain": [
       "<Figure size 432x288 with 1 Axes>"
      ]
     },
     "metadata": {},
     "output_type": "display_data"
    },
    {
     "data": {
      "image/png": "[encoded data removed]",
      "text/plain": [
       "<Figure size 432x288 with 1 Axes>"
      ]
     },
     "metadata": {},
     "output_type": "display_data"
    },
    {
     "data": {
      "image/png": "[encoded data removed]",
      "text/plain": [
       "<Figure size 432x288 with 1 Axes>"
      ]
     },
     "metadata": {},
     "output_type": "display_data"
    },
    {
     "data": {
      "image/png": "[encoded data removed]",
      "text/plain": [
       "<Figure size 432x288 with 1 Axes>"
      ]
     },
     "metadata": {},
     "output_type": "display_data"
    },
    {
     "data": {
      "image/png": "[encoded data removed]",
      "text/plain": [
       "<Figure size 432x288 with 1 Axes>"
      ]
     },
     "metadata": {},
     "output_type": "display_data"
    },
    {
     "data": {
      "image/png": "[encoded data removed]",
      "text/plain": [
       "<Figure size 432x288 with 1 Axes>"
      ]
     },
     "metadata": {},
     "output_type": "display_data"
    },
    {
     "data": {
      "image/png": "[encoded data removed]",
      "text/plain": [
       "<Figure size 432x288 with 1 Axes>"
      ]
     },
     "metadata": {},
     "output_type": "display_data"
    }
   ],
   "source": [
    "for i in range(16):\n",
    "    plt.imshow(((x + nn.Sigmoid()(residual))[i] / 2).detach().numpy()[0], cmap='gray')\n",
    "    plt.show()"
   ]
  },
  {
   "cell_type": "markdown",
   "metadata": {},
   "source": [
    "## Attack Linear Model with Fast Gradient Sign Method\n",
    "\n",
    "https://arxiv.org/pdf/1412.6572.pdf"
   ]
  },
  {
   "cell_type": "code",
   "execution_count": 17,
   "metadata": {},
   "outputs": [],
   "source": [
    "class LinearNet(nn.Module):\n",
    "    def __init__(self):\n",
    "        super(LinearNet, self).__init__()\n",
    "        self.clf = nn.Sequential(\n",
    "            nn.Linear(784, 10),\n",
    "            nn.Softmax()\n",
    "        )\n",
    "        \n",
    "    def forward(self, x):\n",
    "        return self.clf(x)"
   ]
  },
  {
   "cell_type": "code",
   "execution_count": 18,
   "metadata": {},
   "outputs": [
    {
     "name": "stderr",
     "output_type": "stream",
     "text": [
      "/usr/local/lib/python3.6/site-packages/torch/nn/modules/container.py:91: UserWarning: Implicit dimension choice for softmax has been deprecated. Change the call to include dim=X as an argument.\n",
      "  input = module(input)\n"
     ]
    },
    {
     "name": "stdout",
     "output_type": "stream",
     "text": [
      "----------------------------------------------------------------\n",
      "        Layer (type)               Output Shape         Param #\n",
      "================================================================\n",
      "            Linear-1                   [-1, 10]           7,850\n",
      "           Softmax-2                   [-1, 10]               0\n",
      "================================================================\n",
      "Total params: 7,850\n",
      "Trainable params: 7,850\n",
      "Non-trainable params: 0\n",
      "----------------------------------------------------------------\n",
      "-0.8082277254203953\t-0.8972434944152822\n",
      "-0.8942746454238878\t-0.9089972531318669\n",
      "-0.9027950363318131\t-0.914027033233642\n",
      "-0.9079002985795337\t-0.916987309360505\n",
      "-0.9108283610661825\t-0.9202861198425295\n"
     ]
    }
   ],
   "source": [
    "linear_model = LinearNet()\n",
    "\n",
    "summary(linear_model, (784,))\n",
    "\n",
    "optimizer     = optim.Adadelta(linear_model.parameters())\n",
    "loss_function = nn.NLLLoss()\n",
    "\n",
    "for i in range(5):\n",
    "    #training loop\n",
    "    mean_loss = 0.\n",
    "    for j, (x, y) in enumerate(train_loader):\n",
    "        optimizer.zero_grad()\n",
    "        pred = linear_model(x.view([16, 784]))\n",
    "        loss = loss_function(pred, y)\n",
    "        loss.backward()\n",
    "        optimizer.step()\n",
    "        mean_loss = mean_loss + (loss.item() - mean_loss) / float(j + 1)\n",
    "    print(mean_loss, end='\\t')\n",
    "    #testing loop\n",
    "    mean_loss = 0.\n",
    "    for j, (x, y) in enumerate(test_loader):\n",
    "        optimizer.zero_grad()\n",
    "        pred = linear_model(x.view([16, 784]))\n",
    "        loss = loss_function(pred, y)\n",
    "        loss.backward()\n",
    "        optimizer.step()\n",
    "        mean_loss = mean_loss + (loss.item() - mean_loss) / float(j + 1)\n",
    "    print(mean_loss)"
   ]
  },
  {
   "cell_type": "code",
   "execution_count": 19,
   "metadata": {},
   "outputs": [
    {
     "name": "stderr",
     "output_type": "stream",
     "text": [
      "/usr/local/lib/python3.6/site-packages/torch/nn/modules/container.py:91: UserWarning: Implicit dimension choice for softmax has been deprecated. Change the call to include dim=X as an argument.\n",
      "  input = module(input)\n"
     ]
    }
   ],
   "source": [
    "residual = torch.zeros(x.shape)\n",
    "residual.requires_grad = True\n",
    "\n",
    "aversarial_loss = nn.NLLLoss()\n",
    "adversarial_optimizer = optim.SGD([residual], lr=1000)\n",
    "\n",
    "pred = linear_model((x * .75  + nn.Sigmoid()(residual) * .25).view([16, 784])) \n",
    "adversarial_optimizer.zero_grad()\n",
    "adv_loss = -aversarial_loss(pred, y)\n",
    "adv_loss.backward()\n",
    "adversarial_optimizer.step()\n",
    "\n",
    "residual = residual.grad.sign()"
   ]
  },
  {
   "cell_type": "code",
   "execution_count": 20,
   "metadata": {},
   "outputs": [
    {
     "name": "stderr",
     "output_type": "stream",
     "text": [
      "/usr/local/lib/python3.6/site-packages/torch/nn/modules/container.py:91: UserWarning: Implicit dimension choice for softmax has been deprecated. Change the call to include dim=X as an argument.\n",
      "  input = module(input)\n"
     ]
    },
    {
     "data": {
      "text/plain": [
       "(tensor([ 3,  8,  8,  4,  5,  6,  7,  3,  4,  0,  2,  2,  3,  8,\n",
       "          8,  6]),\n",
       " tensor([ 1,  2,  3,  4,  5,  6,  7,  8,  9,  0,  1,  2,  3,  4,\n",
       "          5,  6]))"
      ]
     },
     "execution_count": 20,
     "metadata": {},
     "output_type": "execute_result"
    }
   ],
   "source": [
    "pred = linear_model((x - residual * .05).view([16, 784])) \n",
    "pred.argmax(1), y"
   ]
  },
  {
   "cell_type": "code",
   "execution_count": 21,
   "metadata": {},
   "outputs": [
    {
     "data": {
      "text/plain": [
       "(tensor(-1.), tensor(1.))"
      ]
     },
     "execution_count": 21,
     "metadata": {},
     "output_type": "execute_result"
    }
   ],
   "source": [
    "residual.min(), residual.max()"
   ]
  },
  {
   "cell_type": "code",
   "execution_count": 22,
   "metadata": {},
   "outputs": [
    {
     "data": {
      "image/png": "[encoded data removed]",
      "text/plain": [
       "<Figure size 432x288 with 1 Axes>"
      ]
     },
     "metadata": {},
     "output_type": "display_data"
    },
    {
     "data": {
      "text/plain": [
       "(0.26530612, 0.92961264)"
      ]
     },
     "execution_count": 22,
     "metadata": {},
     "output_type": "execute_result"
    }
   ],
   "source": [
    "plt.imshow(residual.detach().numpy()[0, 0], cmap='gray')\n",
    "plt.show()\n",
    "\n",
    "residual.detach().numpy()[0, 0].mean(), residual.detach().numpy()[0, 0].var()"
   ]
  },
  {
   "cell_type": "code",
   "execution_count": 23,
   "metadata": {},
   "outputs": [
    {
     "data": {
      "image/png": "[encoded data removed]",
      "text/plain": [
       "<Figure size 432x288 with 1 Axes>"
      ]
     },
     "metadata": {},
     "output_type": "display_data"
    }
   ],
   "source": [
    "plt.imshow((x - residual * .05).detach().numpy()[1, 0], cmap='gray')\n",
    "plt.show()"
   ]
  },
  {
   "cell_type": "code",
   "execution_count": 24,
   "metadata": {},
   "outputs": [
    {
     "data": {
      "image/png": "[encoded data removed]",
      "text/plain": [
       "<Figure size 432x288 with 1 Axes>"
      ]
     },
     "metadata": {},
     "output_type": "display_data"
    }
   ],
   "source": [
    "plt.imshow(residual[1][0].detach().numpy(), cmap='gray')\n",
    "plt.show()"
   ]
  },
  {
   "cell_type": "code",
   "execution_count": null,
   "metadata": {},
   "outputs": [],
   "source": []
  }
 ],
 "metadata": {
  "kernelspec": {
   "display_name": "Python 3",
   "language": "python",
   "name": "python3"
  },
  "language_info": {
   "codemirror_mode": {
    "name": "ipython",
    "version": 3
   },
   "file_extension": ".py",
   "mimetype": "text/x-python",
   "name": "python",
   "nbconvert_exporter": "python",
   "pygments_lexer": "ipython3",
   "version": "3.6.5"
  }
 },
 "nbformat": 4,
 "nbformat_minor": 2
}
